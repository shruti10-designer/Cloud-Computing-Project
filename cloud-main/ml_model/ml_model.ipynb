{
  "cells": [
    {
      "cell_type": "code",
      "execution_count": null,
      "metadata": {
        "id": "MJ4Z8ZaWiWzn"
      },
      "outputs": [],
      "source": [
        "import pandas as pd\n",
        "import numpy as np"
      ]
    },
    {
      "cell_type": "code",
      "execution_count": null,
      "metadata": {
        "id": "MH265DiSjQ69"
      },
      "outputs": [],
      "source": [
        "data = pd.read_csv('diet.csv')"
      ]
    },
    {
      "cell_type": "code",
      "execution_count": null,
      "metadata": {
        "id": "5oBh0xXhzFaB"
      },
      "outputs": [],
      "source": [
        "data=data.drop(['Calorie Deficient/Over'], axis=1)"
      ]
    },
    {
      "cell_type": "code",
      "execution_count": null,
      "metadata": {
        "colab": {
          "base_uri": "https://localhost:8080/"
        },
        "id": "KWD2IMrBjW6X",
        "outputId": "3a4010f6-1332-4fc2-bc81-b12631947ade"
      },
      "outputs": [
        {
          "data": {
            "text/html": [
              "\n",
              "  <div id=\"df-8bf0823c-3343-40bf-88e7-1fafdc56be87\">\n",
              "    <div class=\"colab-df-container\">\n",
              "      <div>\n",
              "<style scoped>\n",
              "    .dataframe tbody tr th:only-of-type {\n",
              "        vertical-align: middle;\n",
              "    }\n",
              "\n",
              "    .dataframe tbody tr th {\n",
              "        vertical-align: top;\n",
              "    }\n",
              "\n",
              "    .dataframe thead th {\n",
              "        text-align: right;\n",
              "    }\n",
              "</style>\n",
              "<table border=\"1\" class=\"dataframe\">\n",
              "  <thead>\n",
              "    <tr style=\"text-align: right;\">\n",
              "      <th></th>\n",
              "      <th>step_count</th>\n",
              "      <th>calories_burnt</th>\n",
              "      <th>hours_of_sleep</th>\n",
              "      <th>Weight</th>\n",
              "      <th>Height</th>\n",
              "      <th>calories</th>\n",
              "      <th>BMI</th>\n",
              "      <th>Category</th>\n",
              "    </tr>\n",
              "  </thead>\n",
              "  <tbody>\n",
              "    <tr>\n",
              "      <th>0</th>\n",
              "      <td>5464</td>\n",
              "      <td>181</td>\n",
              "      <td>5</td>\n",
              "      <td>65.78331</td>\n",
              "      <td>125.7833</td>\n",
              "      <td>1950</td>\n",
              "      <td>NaN</td>\n",
              "      <td>NaN</td>\n",
              "    </tr>\n",
              "    <tr>\n",
              "      <th>1</th>\n",
              "      <td>6041</td>\n",
              "      <td>197</td>\n",
              "      <td>8</td>\n",
              "      <td>71.51521</td>\n",
              "      <td>136.4873</td>\n",
              "      <td>2600</td>\n",
              "      <td>NaN</td>\n",
              "      <td>NaN</td>\n",
              "    </tr>\n",
              "    <tr>\n",
              "      <th>2</th>\n",
              "      <td>25</td>\n",
              "      <td>0</td>\n",
              "      <td>5</td>\n",
              "      <td>69.39874</td>\n",
              "      <td>153.0269</td>\n",
              "      <td>2500</td>\n",
              "      <td>NaN</td>\n",
              "      <td>NaN</td>\n",
              "    </tr>\n",
              "    <tr>\n",
              "      <th>3</th>\n",
              "      <td>5461</td>\n",
              "      <td>174</td>\n",
              "      <td>4</td>\n",
              "      <td>68.21660</td>\n",
              "      <td>142.3354</td>\n",
              "      <td>1850</td>\n",
              "      <td>NaN</td>\n",
              "      <td>NaN</td>\n",
              "    </tr>\n",
              "    <tr>\n",
              "      <th>4</th>\n",
              "      <td>6915</td>\n",
              "      <td>223</td>\n",
              "      <td>5</td>\n",
              "      <td>67.78781</td>\n",
              "      <td>144.2971</td>\n",
              "      <td>2900</td>\n",
              "      <td>NaN</td>\n",
              "      <td>NaN</td>\n",
              "    </tr>\n",
              "    <tr>\n",
              "      <th>...</th>\n",
              "      <td>...</td>\n",
              "      <td>...</td>\n",
              "      <td>...</td>\n",
              "      <td>...</td>\n",
              "      <td>...</td>\n",
              "      <td>...</td>\n",
              "      <td>...</td>\n",
              "      <td>...</td>\n",
              "    </tr>\n",
              "    <tr>\n",
              "      <th>91</th>\n",
              "      <td>133</td>\n",
              "      <td>4</td>\n",
              "      <td>2</td>\n",
              "      <td>70.24256</td>\n",
              "      <td>141.4896</td>\n",
              "      <td>1400</td>\n",
              "      <td>NaN</td>\n",
              "      <td>NaN</td>\n",
              "    </tr>\n",
              "    <tr>\n",
              "      <th>92</th>\n",
              "      <td>153</td>\n",
              "      <td>0</td>\n",
              "      <td>8</td>\n",
              "      <td>71.48752</td>\n",
              "      <td>140.6104</td>\n",
              "      <td>1550</td>\n",
              "      <td>NaN</td>\n",
              "      <td>NaN</td>\n",
              "    </tr>\n",
              "    <tr>\n",
              "      <th>93</th>\n",
              "      <td>500</td>\n",
              "      <td>0</td>\n",
              "      <td>5</td>\n",
              "      <td>69.20477</td>\n",
              "      <td>112.1413</td>\n",
              "      <td>2350</td>\n",
              "      <td>NaN</td>\n",
              "      <td>NaN</td>\n",
              "    </tr>\n",
              "    <tr>\n",
              "      <th>94</th>\n",
              "      <td>2127</td>\n",
              "      <td>0</td>\n",
              "      <td>5</td>\n",
              "      <td>70.06306</td>\n",
              "      <td>133.4570</td>\n",
              "      <td>5400</td>\n",
              "      <td>NaN</td>\n",
              "      <td>NaN</td>\n",
              "    </tr>\n",
              "    <tr>\n",
              "      <th>95</th>\n",
              "      <td>2203</td>\n",
              "      <td>0</td>\n",
              "      <td>5</td>\n",
              "      <td>70.55703</td>\n",
              "      <td>131.8001</td>\n",
              "      <td>3300</td>\n",
              "      <td>NaN</td>\n",
              "      <td>NaN</td>\n",
              "    </tr>\n",
              "  </tbody>\n",
              "</table>\n",
              "<p>96 rows × 8 columns</p>\n",
              "</div>\n",
              "      <button class=\"colab-df-convert\" onclick=\"convertToInteractive('df-8bf0823c-3343-40bf-88e7-1fafdc56be87')\"\n",
              "              title=\"Convert this dataframe to an interactive table.\"\n",
              "              style=\"display:none;\">\n",
              "        \n",
              "  <svg xmlns=\"http://www.w3.org/2000/svg\" height=\"24px\"viewBox=\"0 0 24 24\"\n",
              "       width=\"24px\">\n",
              "    <path d=\"M0 0h24v24H0V0z\" fill=\"none\"/>\n",
              "    <path d=\"M18.56 5.44l.94 2.06.94-2.06 2.06-.94-2.06-.94-.94-2.06-.94 2.06-2.06.94zm-11 1L8.5 8.5l.94-2.06 2.06-.94-2.06-.94L8.5 2.5l-.94 2.06-2.06.94zm10 10l.94 2.06.94-2.06 2.06-.94-2.06-.94-.94-2.06-.94 2.06-2.06.94z\"/><path d=\"M17.41 7.96l-1.37-1.37c-.4-.4-.92-.59-1.43-.59-.52 0-1.04.2-1.43.59L10.3 9.45l-7.72 7.72c-.78.78-.78 2.05 0 2.83L4 21.41c.39.39.9.59 1.41.59.51 0 1.02-.2 1.41-.59l7.78-7.78 2.81-2.81c.8-.78.8-2.07 0-2.86zM5.41 20L4 18.59l7.72-7.72 1.47 1.35L5.41 20z\"/>\n",
              "  </svg>\n",
              "      </button>\n",
              "      \n",
              "  <style>\n",
              "    .colab-df-container {\n",
              "      display:flex;\n",
              "      flex-wrap:wrap;\n",
              "      gap: 12px;\n",
              "    }\n",
              "\n",
              "    .colab-df-convert {\n",
              "      background-color: #E8F0FE;\n",
              "      border: none;\n",
              "      border-radius: 50%;\n",
              "      cursor: pointer;\n",
              "      display: none;\n",
              "      fill: #1967D2;\n",
              "      height: 32px;\n",
              "      padding: 0 0 0 0;\n",
              "      width: 32px;\n",
              "    }\n",
              "\n",
              "    .colab-df-convert:hover {\n",
              "      background-color: #E2EBFA;\n",
              "      box-shadow: 0px 1px 2px rgba(60, 64, 67, 0.3), 0px 1px 3px 1px rgba(60, 64, 67, 0.15);\n",
              "      fill: #174EA6;\n",
              "    }\n",
              "\n",
              "    [theme=dark] .colab-df-convert {\n",
              "      background-color: #3B4455;\n",
              "      fill: #D2E3FC;\n",
              "    }\n",
              "\n",
              "    [theme=dark] .colab-df-convert:hover {\n",
              "      background-color: #434B5C;\n",
              "      box-shadow: 0px 1px 3px 1px rgba(0, 0, 0, 0.15);\n",
              "      filter: drop-shadow(0px 1px 2px rgba(0, 0, 0, 0.3));\n",
              "      fill: #FFFFFF;\n",
              "    }\n",
              "  </style>\n",
              "\n",
              "      <script>\n",
              "        const buttonEl =\n",
              "          document.querySelector('#df-8bf0823c-3343-40bf-88e7-1fafdc56be87 button.colab-df-convert');\n",
              "        buttonEl.style.display =\n",
              "          google.colab.kernel.accessAllowed ? 'block' : 'none';\n",
              "\n",
              "        async function convertToInteractive(key) {\n",
              "          const element = document.querySelector('#df-8bf0823c-3343-40bf-88e7-1fafdc56be87');\n",
              "          const dataTable =\n",
              "            await google.colab.kernel.invokeFunction('convertToInteractive',\n",
              "                                                     [key], {});\n",
              "          if (!dataTable) return;\n",
              "\n",
              "          const docLinkHtml = 'Like what you see? Visit the ' +\n",
              "            '<a target=\"_blank\" href=https://colab.research.google.com/notebooks/data_table.ipynb>data table notebook</a>'\n",
              "            + ' to learn more about interactive tables.';\n",
              "          element.innerHTML = '';\n",
              "          dataTable['output_type'] = 'display_data';\n",
              "          await google.colab.output.renderOutput(dataTable, element);\n",
              "          const docLink = document.createElement('div');\n",
              "          docLink.innerHTML = docLinkHtml;\n",
              "          element.appendChild(docLink);\n",
              "        }\n",
              "      </script>\n",
              "    </div>\n",
              "  </div>\n",
              "  "
            ],
            "text/plain": [
              "    step_count  calories_burnt  hours_of_sleep    Weight    Height  calories  \\\n",
              "0         5464             181               5  65.78331  125.7833      1950   \n",
              "1         6041             197               8  71.51521  136.4873      2600   \n",
              "2           25               0               5  69.39874  153.0269      2500   \n",
              "3         5461             174               4  68.21660  142.3354      1850   \n",
              "4         6915             223               5  67.78781  144.2971      2900   \n",
              "..         ...             ...             ...       ...       ...       ...   \n",
              "91         133               4               2  70.24256  141.4896      1400   \n",
              "92         153               0               8  71.48752  140.6104      1550   \n",
              "93         500               0               5  69.20477  112.1413      2350   \n",
              "94        2127               0               5  70.06306  133.4570      5400   \n",
              "95        2203               0               5  70.55703  131.8001      3300   \n",
              "\n",
              "    BMI  Category  \n",
              "0   NaN       NaN  \n",
              "1   NaN       NaN  \n",
              "2   NaN       NaN  \n",
              "3   NaN       NaN  \n",
              "4   NaN       NaN  \n",
              "..  ...       ...  \n",
              "91  NaN       NaN  \n",
              "92  NaN       NaN  \n",
              "93  NaN       NaN  \n",
              "94  NaN       NaN  \n",
              "95  NaN       NaN  \n",
              "\n",
              "[96 rows x 8 columns]"
            ]
          },
          "execution_count": 4,
          "metadata": {},
          "output_type": "execute_result"
        }
      ],
      "source": [
        "data"
      ]
    },
    {
      "cell_type": "code",
      "execution_count": null,
      "metadata": {
        "id": "9hXhmIXYq6Aj"
      },
      "outputs": [],
      "source": [
        "data.iloc[0,3]=30.5\n",
        "data.iloc[10,3]=20.5\n",
        "data.iloc[14,3]=28.5\n",
        "data.iloc[66,3]=22.5\n",
        "data.iloc[40,3]=20.5\n",
        "data.iloc[34,3]=29.5\n",
        "data.iloc[90,3]=20.5"
      ]
    },
    {
      "cell_type": "code",
      "execution_count": null,
      "metadata": {
        "id": "lxLZJQ7vkQvs"
      },
      "outputs": [],
      "source": [
        "#data = data.replace('NaN', np.nan) \n",
        "data['BMI'] = data['Weight'] / data['Height'].div(100).pow(2)"
      ]
    },
    {
      "cell_type": "code",
      "execution_count": null,
      "metadata": {
        "colab": {
          "base_uri": "https://localhost:8080/"
        },
        "id": "RNO04rmfojM6",
        "outputId": "7e16481b-d8ab-4517-8378-15cb2d1246e1"
      },
      "outputs": [
        {
          "data": {
            "text/html": [
              "\n",
              "  <div id=\"df-e26e97c4-2eaf-466c-adca-dd5aa63108eb\">\n",
              "    <div class=\"colab-df-container\">\n",
              "      <div>\n",
              "<style scoped>\n",
              "    .dataframe tbody tr th:only-of-type {\n",
              "        vertical-align: middle;\n",
              "    }\n",
              "\n",
              "    .dataframe tbody tr th {\n",
              "        vertical-align: top;\n",
              "    }\n",
              "\n",
              "    .dataframe thead th {\n",
              "        text-align: right;\n",
              "    }\n",
              "</style>\n",
              "<table border=\"1\" class=\"dataframe\">\n",
              "  <thead>\n",
              "    <tr style=\"text-align: right;\">\n",
              "      <th></th>\n",
              "      <th>step_count</th>\n",
              "      <th>calories_burnt</th>\n",
              "      <th>hours_of_sleep</th>\n",
              "      <th>Weight</th>\n",
              "      <th>Height</th>\n",
              "      <th>calories</th>\n",
              "      <th>BMI</th>\n",
              "      <th>Category</th>\n",
              "    </tr>\n",
              "  </thead>\n",
              "  <tbody>\n",
              "    <tr>\n",
              "      <th>0</th>\n",
              "      <td>5464</td>\n",
              "      <td>181</td>\n",
              "      <td>5</td>\n",
              "      <td>30.50000</td>\n",
              "      <td>125.7833</td>\n",
              "      <td>1950</td>\n",
              "      <td>19.277640</td>\n",
              "      <td>NaN</td>\n",
              "    </tr>\n",
              "    <tr>\n",
              "      <th>1</th>\n",
              "      <td>6041</td>\n",
              "      <td>197</td>\n",
              "      <td>8</td>\n",
              "      <td>71.51521</td>\n",
              "      <td>136.4873</td>\n",
              "      <td>2600</td>\n",
              "      <td>38.389631</td>\n",
              "      <td>NaN</td>\n",
              "    </tr>\n",
              "    <tr>\n",
              "      <th>2</th>\n",
              "      <td>25</td>\n",
              "      <td>0</td>\n",
              "      <td>5</td>\n",
              "      <td>69.39874</td>\n",
              "      <td>153.0269</td>\n",
              "      <td>2500</td>\n",
              "      <td>29.635757</td>\n",
              "      <td>NaN</td>\n",
              "    </tr>\n",
              "    <tr>\n",
              "      <th>3</th>\n",
              "      <td>5461</td>\n",
              "      <td>174</td>\n",
              "      <td>4</td>\n",
              "      <td>68.21660</td>\n",
              "      <td>142.3354</td>\n",
              "      <td>1850</td>\n",
              "      <td>33.671636</td>\n",
              "      <td>NaN</td>\n",
              "    </tr>\n",
              "    <tr>\n",
              "      <th>4</th>\n",
              "      <td>6915</td>\n",
              "      <td>223</td>\n",
              "      <td>5</td>\n",
              "      <td>67.78781</td>\n",
              "      <td>144.2971</td>\n",
              "      <td>2900</td>\n",
              "      <td>32.556402</td>\n",
              "      <td>NaN</td>\n",
              "    </tr>\n",
              "    <tr>\n",
              "      <th>...</th>\n",
              "      <td>...</td>\n",
              "      <td>...</td>\n",
              "      <td>...</td>\n",
              "      <td>...</td>\n",
              "      <td>...</td>\n",
              "      <td>...</td>\n",
              "      <td>...</td>\n",
              "      <td>...</td>\n",
              "    </tr>\n",
              "    <tr>\n",
              "      <th>91</th>\n",
              "      <td>133</td>\n",
              "      <td>4</td>\n",
              "      <td>2</td>\n",
              "      <td>70.24256</td>\n",
              "      <td>141.4896</td>\n",
              "      <td>1400</td>\n",
              "      <td>35.087409</td>\n",
              "      <td>NaN</td>\n",
              "    </tr>\n",
              "    <tr>\n",
              "      <th>92</th>\n",
              "      <td>153</td>\n",
              "      <td>0</td>\n",
              "      <td>8</td>\n",
              "      <td>71.48752</td>\n",
              "      <td>140.6104</td>\n",
              "      <td>1550</td>\n",
              "      <td>36.157246</td>\n",
              "      <td>NaN</td>\n",
              "    </tr>\n",
              "    <tr>\n",
              "      <th>93</th>\n",
              "      <td>500</td>\n",
              "      <td>0</td>\n",
              "      <td>5</td>\n",
              "      <td>69.20477</td>\n",
              "      <td>112.1413</td>\n",
              "      <td>2350</td>\n",
              "      <td>55.030677</td>\n",
              "      <td>NaN</td>\n",
              "    </tr>\n",
              "    <tr>\n",
              "      <th>94</th>\n",
              "      <td>2127</td>\n",
              "      <td>0</td>\n",
              "      <td>5</td>\n",
              "      <td>70.06306</td>\n",
              "      <td>133.4570</td>\n",
              "      <td>5400</td>\n",
              "      <td>39.337466</td>\n",
              "      <td>NaN</td>\n",
              "    </tr>\n",
              "    <tr>\n",
              "      <th>95</th>\n",
              "      <td>2203</td>\n",
              "      <td>0</td>\n",
              "      <td>5</td>\n",
              "      <td>70.55703</td>\n",
              "      <td>131.8001</td>\n",
              "      <td>3300</td>\n",
              "      <td>40.617091</td>\n",
              "      <td>NaN</td>\n",
              "    </tr>\n",
              "  </tbody>\n",
              "</table>\n",
              "<p>96 rows × 8 columns</p>\n",
              "</div>\n",
              "      <button class=\"colab-df-convert\" onclick=\"convertToInteractive('df-e26e97c4-2eaf-466c-adca-dd5aa63108eb')\"\n",
              "              title=\"Convert this dataframe to an interactive table.\"\n",
              "              style=\"display:none;\">\n",
              "        \n",
              "  <svg xmlns=\"http://www.w3.org/2000/svg\" height=\"24px\"viewBox=\"0 0 24 24\"\n",
              "       width=\"24px\">\n",
              "    <path d=\"M0 0h24v24H0V0z\" fill=\"none\"/>\n",
              "    <path d=\"M18.56 5.44l.94 2.06.94-2.06 2.06-.94-2.06-.94-.94-2.06-.94 2.06-2.06.94zm-11 1L8.5 8.5l.94-2.06 2.06-.94-2.06-.94L8.5 2.5l-.94 2.06-2.06.94zm10 10l.94 2.06.94-2.06 2.06-.94-2.06-.94-.94-2.06-.94 2.06-2.06.94z\"/><path d=\"M17.41 7.96l-1.37-1.37c-.4-.4-.92-.59-1.43-.59-.52 0-1.04.2-1.43.59L10.3 9.45l-7.72 7.72c-.78.78-.78 2.05 0 2.83L4 21.41c.39.39.9.59 1.41.59.51 0 1.02-.2 1.41-.59l7.78-7.78 2.81-2.81c.8-.78.8-2.07 0-2.86zM5.41 20L4 18.59l7.72-7.72 1.47 1.35L5.41 20z\"/>\n",
              "  </svg>\n",
              "      </button>\n",
              "      \n",
              "  <style>\n",
              "    .colab-df-container {\n",
              "      display:flex;\n",
              "      flex-wrap:wrap;\n",
              "      gap: 12px;\n",
              "    }\n",
              "\n",
              "    .colab-df-convert {\n",
              "      background-color: #E8F0FE;\n",
              "      border: none;\n",
              "      border-radius: 50%;\n",
              "      cursor: pointer;\n",
              "      display: none;\n",
              "      fill: #1967D2;\n",
              "      height: 32px;\n",
              "      padding: 0 0 0 0;\n",
              "      width: 32px;\n",
              "    }\n",
              "\n",
              "    .colab-df-convert:hover {\n",
              "      background-color: #E2EBFA;\n",
              "      box-shadow: 0px 1px 2px rgba(60, 64, 67, 0.3), 0px 1px 3px 1px rgba(60, 64, 67, 0.15);\n",
              "      fill: #174EA6;\n",
              "    }\n",
              "\n",
              "    [theme=dark] .colab-df-convert {\n",
              "      background-color: #3B4455;\n",
              "      fill: #D2E3FC;\n",
              "    }\n",
              "\n",
              "    [theme=dark] .colab-df-convert:hover {\n",
              "      background-color: #434B5C;\n",
              "      box-shadow: 0px 1px 3px 1px rgba(0, 0, 0, 0.15);\n",
              "      filter: drop-shadow(0px 1px 2px rgba(0, 0, 0, 0.3));\n",
              "      fill: #FFFFFF;\n",
              "    }\n",
              "  </style>\n",
              "\n",
              "      <script>\n",
              "        const buttonEl =\n",
              "          document.querySelector('#df-e26e97c4-2eaf-466c-adca-dd5aa63108eb button.colab-df-convert');\n",
              "        buttonEl.style.display =\n",
              "          google.colab.kernel.accessAllowed ? 'block' : 'none';\n",
              "\n",
              "        async function convertToInteractive(key) {\n",
              "          const element = document.querySelector('#df-e26e97c4-2eaf-466c-adca-dd5aa63108eb');\n",
              "          const dataTable =\n",
              "            await google.colab.kernel.invokeFunction('convertToInteractive',\n",
              "                                                     [key], {});\n",
              "          if (!dataTable) return;\n",
              "\n",
              "          const docLinkHtml = 'Like what you see? Visit the ' +\n",
              "            '<a target=\"_blank\" href=https://colab.research.google.com/notebooks/data_table.ipynb>data table notebook</a>'\n",
              "            + ' to learn more about interactive tables.';\n",
              "          element.innerHTML = '';\n",
              "          dataTable['output_type'] = 'display_data';\n",
              "          await google.colab.output.renderOutput(dataTable, element);\n",
              "          const docLink = document.createElement('div');\n",
              "          docLink.innerHTML = docLinkHtml;\n",
              "          element.appendChild(docLink);\n",
              "        }\n",
              "      </script>\n",
              "    </div>\n",
              "  </div>\n",
              "  "
            ],
            "text/plain": [
              "    step_count  calories_burnt  hours_of_sleep    Weight    Height  calories  \\\n",
              "0         5464             181               5  30.50000  125.7833      1950   \n",
              "1         6041             197               8  71.51521  136.4873      2600   \n",
              "2           25               0               5  69.39874  153.0269      2500   \n",
              "3         5461             174               4  68.21660  142.3354      1850   \n",
              "4         6915             223               5  67.78781  144.2971      2900   \n",
              "..         ...             ...             ...       ...       ...       ...   \n",
              "91         133               4               2  70.24256  141.4896      1400   \n",
              "92         153               0               8  71.48752  140.6104      1550   \n",
              "93         500               0               5  69.20477  112.1413      2350   \n",
              "94        2127               0               5  70.06306  133.4570      5400   \n",
              "95        2203               0               5  70.55703  131.8001      3300   \n",
              "\n",
              "          BMI  Category  \n",
              "0   19.277640       NaN  \n",
              "1   38.389631       NaN  \n",
              "2   29.635757       NaN  \n",
              "3   33.671636       NaN  \n",
              "4   32.556402       NaN  \n",
              "..        ...       ...  \n",
              "91  35.087409       NaN  \n",
              "92  36.157246       NaN  \n",
              "93  55.030677       NaN  \n",
              "94  39.337466       NaN  \n",
              "95  40.617091       NaN  \n",
              "\n",
              "[96 rows x 8 columns]"
            ]
          },
          "execution_count": 7,
          "metadata": {},
          "output_type": "execute_result"
        }
      ],
      "source": [
        "data"
      ]
    },
    {
      "cell_type": "code",
      "execution_count": null,
      "metadata": {
        "colab": {
          "base_uri": "https://localhost:8080/",
          "height": 1000
        },
        "id": "pjsIzPXqnxNE",
        "outputId": "191cbc7f-c868-4995-b493-b80a57617772"
      },
      "outputs": [
        {
          "data": {
            "image/png": "[encoded data removed]",
            "text/plain": [
              "<Figure size 640x480 with 1 Axes>"
            ]
          },
          "metadata": {},
          "output_type": "display_data"
        },
        {
          "data": {
            "image/png": "[encoded data removed]",
            "text/plain": [
              "<Figure size 640x480 with 1 Axes>"
            ]
          },
          "metadata": {},
          "output_type": "display_data"
        },
        {
          "data": {
            "image/png": "[encoded data removed]",
            "text/plain": [
              "<Figure size 640x480 with 1 Axes>"
            ]
          },
          "metadata": {},
          "output_type": "display_data"
        },
        {
          "data": {
            "image/png": "[encoded data removed]",
            "text/plain": [
              "<Figure size 640x480 with 1 Axes>"
            ]
          },
          "metadata": {},
          "output_type": "display_data"
        },
        {
          "data": {
            "image/png": "[encoded data removed]",
            "text/plain": [
              "<Figure size 640x480 with 1 Axes>"
            ]
          },
          "metadata": {},
          "output_type": "display_data"
        },
        {
          "data": {
            "image/png": "[encoded data removed]",
            "text/plain": [
              "<Figure size 640x480 with 1 Axes>"
            ]
          },
          "metadata": {},
          "output_type": "display_data"
        },
        {
          "data": {
            "image/png": "[encoded data removed]",
            "text/plain": [
              "<Figure size 640x480 with 1 Axes>"
            ]
          },
          "metadata": {},
          "output_type": "display_data"
        },
        {
          "data": {
            "image/png": "[encoded data removed]",
            "text/plain": [
              "<Figure size 640x480 with 1 Axes>"
            ]
          },
          "metadata": {},
          "output_type": "display_data"
        }
      ],
      "source": [
        "import matplotlib.pyplot as plt\n",
        "\n",
        "for column in data:\n",
        "    plt.figure()\n",
        "    data.boxplot([column])"
      ]
    },
    {
      "cell_type": "code",
      "execution_count": null,
      "metadata": {
        "id": "gMxTVOwpoKcq"
      },
      "outputs": [],
      "source": [
        "for i in range (0,96):\n",
        "  if data.iloc[i,6]<20:\n",
        "    data.iloc[i,7]=\"Underweight\"\n",
        "  if data.iloc[i,6]>32:\n",
        "    data.iloc[i,7]=\"Overweight\"\n",
        "  if data.iloc[i,6]>20 and data.iloc[i,6]<32:\n",
        "    data.iloc[i,7]=\"Normal\""
      ]
    },
    {
      "cell_type": "code",
      "execution_count": null,
      "metadata": {
        "colab": {
          "base_uri": "https://localhost:8080/",
          "height": 424
        },
        "id": "gV3CiLzdqpa0",
        "outputId": "2d7da8ae-c46c-487e-e1cc-629ea00ad843"
      },
      "outputs": [
        {
          "data": {
            "text/html": [
              "\n",
              "  <div id=\"df-b3c892da-0beb-42c7-9534-e758c9838a09\">\n",
              "    <div class=\"colab-df-container\">\n",
              "      <div>\n",
              "<style scoped>\n",
              "    .dataframe tbody tr th:only-of-type {\n",
              "        vertical-align: middle;\n",
              "    }\n",
              "\n",
              "    .dataframe tbody tr th {\n",
              "        vertical-align: top;\n",
              "    }\n",
              "\n",
              "    .dataframe thead th {\n",
              "        text-align: right;\n",
              "    }\n",
              "</style>\n",
              "<table border=\"1\" class=\"dataframe\">\n",
              "  <thead>\n",
              "    <tr style=\"text-align: right;\">\n",
              "      <th></th>\n",
              "      <th>step_count</th>\n",
              "      <th>calories_burnt</th>\n",
              "      <th>hours_of_sleep</th>\n",
              "      <th>Weight</th>\n",
              "      <th>Height</th>\n",
              "      <th>calories</th>\n",
              "      <th>BMI</th>\n",
              "      <th>Category</th>\n",
              "    </tr>\n",
              "  </thead>\n",
              "  <tbody>\n",
              "    <tr>\n",
              "      <th>0</th>\n",
              "      <td>5464</td>\n",
              "      <td>181</td>\n",
              "      <td>5</td>\n",
              "      <td>30.50000</td>\n",
              "      <td>125.7833</td>\n",
              "      <td>1950</td>\n",
              "      <td>19.277640</td>\n",
              "      <td>Underweight</td>\n",
              "    </tr>\n",
              "    <tr>\n",
              "      <th>1</th>\n",
              "      <td>6041</td>\n",
              "      <td>197</td>\n",
              "      <td>8</td>\n",
              "      <td>71.51521</td>\n",
              "      <td>136.4873</td>\n",
              "      <td>2600</td>\n",
              "      <td>38.389631</td>\n",
              "      <td>Overweight</td>\n",
              "    </tr>\n",
              "    <tr>\n",
              "      <th>2</th>\n",
              "      <td>25</td>\n",
              "      <td>0</td>\n",
              "      <td>5</td>\n",
              "      <td>69.39874</td>\n",
              "      <td>153.0269</td>\n",
              "      <td>2500</td>\n",
              "      <td>29.635757</td>\n",
              "      <td>Normal</td>\n",
              "    </tr>\n",
              "    <tr>\n",
              "      <th>3</th>\n",
              "      <td>5461</td>\n",
              "      <td>174</td>\n",
              "      <td>4</td>\n",
              "      <td>68.21660</td>\n",
              "      <td>142.3354</td>\n",
              "      <td>1850</td>\n",
              "      <td>33.671636</td>\n",
              "      <td>Overweight</td>\n",
              "    </tr>\n",
              "    <tr>\n",
              "      <th>4</th>\n",
              "      <td>6915</td>\n",
              "      <td>223</td>\n",
              "      <td>5</td>\n",
              "      <td>67.78781</td>\n",
              "      <td>144.2971</td>\n",
              "      <td>2900</td>\n",
              "      <td>32.556402</td>\n",
              "      <td>Overweight</td>\n",
              "    </tr>\n",
              "    <tr>\n",
              "      <th>...</th>\n",
              "      <td>...</td>\n",
              "      <td>...</td>\n",
              "      <td>...</td>\n",
              "      <td>...</td>\n",
              "      <td>...</td>\n",
              "      <td>...</td>\n",
              "      <td>...</td>\n",
              "      <td>...</td>\n",
              "    </tr>\n",
              "    <tr>\n",
              "      <th>91</th>\n",
              "      <td>133</td>\n",
              "      <td>4</td>\n",
              "      <td>2</td>\n",
              "      <td>70.24256</td>\n",
              "      <td>141.4896</td>\n",
              "      <td>1400</td>\n",
              "      <td>35.087409</td>\n",
              "      <td>Overweight</td>\n",
              "    </tr>\n",
              "    <tr>\n",
              "      <th>92</th>\n",
              "      <td>153</td>\n",
              "      <td>0</td>\n",
              "      <td>8</td>\n",
              "      <td>71.48752</td>\n",
              "      <td>140.6104</td>\n",
              "      <td>1550</td>\n",
              "      <td>36.157246</td>\n",
              "      <td>Overweight</td>\n",
              "    </tr>\n",
              "    <tr>\n",
              "      <th>93</th>\n",
              "      <td>500</td>\n",
              "      <td>0</td>\n",
              "      <td>5</td>\n",
              "      <td>69.20477</td>\n",
              "      <td>112.1413</td>\n",
              "      <td>2350</td>\n",
              "      <td>55.030677</td>\n",
              "      <td>Overweight</td>\n",
              "    </tr>\n",
              "    <tr>\n",
              "      <th>94</th>\n",
              "      <td>2127</td>\n",
              "      <td>0</td>\n",
              "      <td>5</td>\n",
              "      <td>70.06306</td>\n",
              "      <td>133.4570</td>\n",
              "      <td>5400</td>\n",
              "      <td>39.337466</td>\n",
              "      <td>Overweight</td>\n",
              "    </tr>\n",
              "    <tr>\n",
              "      <th>95</th>\n",
              "      <td>2203</td>\n",
              "      <td>0</td>\n",
              "      <td>5</td>\n",
              "      <td>70.55703</td>\n",
              "      <td>131.8001</td>\n",
              "      <td>3300</td>\n",
              "      <td>40.617091</td>\n",
              "      <td>Overweight</td>\n",
              "    </tr>\n",
              "  </tbody>\n",
              "</table>\n",
              "<p>96 rows × 8 columns</p>\n",
              "</div>\n",
              "      <button class=\"colab-df-convert\" onclick=\"convertToInteractive('df-b3c892da-0beb-42c7-9534-e758c9838a09')\"\n",
              "              title=\"Convert this dataframe to an interactive table.\"\n",
              "              style=\"display:none;\">\n",
              "        \n",
              "  <svg xmlns=\"http://www.w3.org/2000/svg\" height=\"24px\"viewBox=\"0 0 24 24\"\n",
              "       width=\"24px\">\n",
              "    <path d=\"M0 0h24v24H0V0z\" fill=\"none\"/>\n",
              "    <path d=\"M18.56 5.44l.94 2.06.94-2.06 2.06-.94-2.06-.94-.94-2.06-.94 2.06-2.06.94zm-11 1L8.5 8.5l.94-2.06 2.06-.94-2.06-.94L8.5 2.5l-.94 2.06-2.06.94zm10 10l.94 2.06.94-2.06 2.06-.94-2.06-.94-.94-2.06-.94 2.06-2.06.94z\"/><path d=\"M17.41 7.96l-1.37-1.37c-.4-.4-.92-.59-1.43-.59-.52 0-1.04.2-1.43.59L10.3 9.45l-7.72 7.72c-.78.78-.78 2.05 0 2.83L4 21.41c.39.39.9.59 1.41.59.51 0 1.02-.2 1.41-.59l7.78-7.78 2.81-2.81c.8-.78.8-2.07 0-2.86zM5.41 20L4 18.59l7.72-7.72 1.47 1.35L5.41 20z\"/>\n",
              "  </svg>\n",
              "      </button>\n",
              "      \n",
              "  <style>\n",
              "    .colab-df-container {\n",
              "      display:flex;\n",
              "      flex-wrap:wrap;\n",
              "      gap: 12px;\n",
              "    }\n",
              "\n",
              "    .colab-df-convert {\n",
              "      background-color: #E8F0FE;\n",
              "      border: none;\n",
              "      border-radius: 50%;\n",
              "      cursor: pointer;\n",
              "      display: none;\n",
              "      fill: #1967D2;\n",
              "      height: 32px;\n",
              "      padding: 0 0 0 0;\n",
              "      width: 32px;\n",
              "    }\n",
              "\n",
              "    .colab-df-convert:hover {\n",
              "      background-color: #E2EBFA;\n",
              "      box-shadow: 0px 1px 2px rgba(60, 64, 67, 0.3), 0px 1px 3px 1px rgba(60, 64, 67, 0.15);\n",
              "      fill: #174EA6;\n",
              "    }\n",
              "\n",
              "    [theme=dark] .colab-df-convert {\n",
              "      background-color: #3B4455;\n",
              "      fill: #D2E3FC;\n",
              "    }\n",
              "\n",
              "    [theme=dark] .colab-df-convert:hover {\n",
              "      background-color: #434B5C;\n",
              "      box-shadow: 0px 1px 3px 1px rgba(0, 0, 0, 0.15);\n",
              "      filter: drop-shadow(0px 1px 2px rgba(0, 0, 0, 0.3));\n",
              "      fill: #FFFFFF;\n",
              "    }\n",
              "  </style>\n",
              "\n",
              "      <script>\n",
              "        const buttonEl =\n",
              "          document.querySelector('#df-b3c892da-0beb-42c7-9534-e758c9838a09 button.colab-df-convert');\n",
              "        buttonEl.style.display =\n",
              "          google.colab.kernel.accessAllowed ? 'block' : 'none';\n",
              "\n",
              "        async function convertToInteractive(key) {\n",
              "          const element = document.querySelector('#df-b3c892da-0beb-42c7-9534-e758c9838a09');\n",
              "          const dataTable =\n",
              "            await google.colab.kernel.invokeFunction('convertToInteractive',\n",
              "                                                     [key], {});\n",
              "          if (!dataTable) return;\n",
              "\n",
              "          const docLinkHtml = 'Like what you see? Visit the ' +\n",
              "            '<a target=\"_blank\" href=https://colab.research.google.com/notebooks/data_table.ipynb>data table notebook</a>'\n",
              "            + ' to learn more about interactive tables.';\n",
              "          element.innerHTML = '';\n",
              "          dataTable['output_type'] = 'display_data';\n",
              "          await google.colab.output.renderOutput(dataTable, element);\n",
              "          const docLink = document.createElement('div');\n",
              "          docLink.innerHTML = docLinkHtml;\n",
              "          element.appendChild(docLink);\n",
              "        }\n",
              "      </script>\n",
              "    </div>\n",
              "  </div>\n",
              "  "
            ],
            "text/plain": [
              "    step_count  calories_burnt  hours_of_sleep    Weight    Height  calories  \\\n",
              "0         5464             181               5  30.50000  125.7833      1950   \n",
              "1         6041             197               8  71.51521  136.4873      2600   \n",
              "2           25               0               5  69.39874  153.0269      2500   \n",
              "3         5461             174               4  68.21660  142.3354      1850   \n",
              "4         6915             223               5  67.78781  144.2971      2900   \n",
              "..         ...             ...             ...       ...       ...       ...   \n",
              "91         133               4               2  70.24256  141.4896      1400   \n",
              "92         153               0               8  71.48752  140.6104      1550   \n",
              "93         500               0               5  69.20477  112.1413      2350   \n",
              "94        2127               0               5  70.06306  133.4570      5400   \n",
              "95        2203               0               5  70.55703  131.8001      3300   \n",
              "\n",
              "          BMI     Category  \n",
              "0   19.277640  Underweight  \n",
              "1   38.389631   Overweight  \n",
              "2   29.635757       Normal  \n",
              "3   33.671636   Overweight  \n",
              "4   32.556402   Overweight  \n",
              "..        ...          ...  \n",
              "91  35.087409   Overweight  \n",
              "92  36.157246   Overweight  \n",
              "93  55.030677   Overweight  \n",
              "94  39.337466   Overweight  \n",
              "95  40.617091   Overweight  \n",
              "\n",
              "[96 rows x 8 columns]"
            ]
          },
          "execution_count": 10,
          "metadata": {},
          "output_type": "execute_result"
        }
      ],
      "source": [
        "data"
      ]
    },
    {
      "cell_type": "code",
      "execution_count": null,
      "metadata": {
        "id": "hJ3i0MbOq4Wy"
      },
      "outputs": [],
      "source": [
        "from sklearn.metrics import accuracy_score\n",
        "from imblearn.over_sampling import SMOTE"
      ]
    },
    {
      "cell_type": "code",
      "execution_count": null,
      "metadata": {
        "id": "wXKbp94wsyvp"
      },
      "outputs": [],
      "source": [
        "y=data['Category']"
      ]
    },
    {
      "cell_type": "code",
      "execution_count": null,
      "metadata": {
        "id": "OlxTD13Bs5nH"
      },
      "outputs": [],
      "source": [
        "X = data.drop(['Category'],axis=1)"
      ]
    },
    {
      "cell_type": "code",
      "execution_count": null,
      "metadata": {
        "id": "gwN_Zsvvsu1P"
      },
      "outputs": [],
      "source": [
        "from sklearn.metrics import confusion_matrix\n",
        "import matplotlib.pyplot as plt\n",
        "import seaborn as sns\n",
        "\n",
        "from sklearn.model_selection import train_test_split\n",
        "\n",
        "X_train, X_test, y_train, y_test = train_test_split(X, y, test_size=0.3, random_state=0)"
      ]
    },
    {
      "cell_type": "code",
      "execution_count": null,
      "metadata": {
        "id": "L0e2rKkqw7I4"
      },
      "outputs": [],
      "source": [
        "from imblearn.over_sampling import RandomOverSampler"
      ]
    },
    {
      "cell_type": "code",
      "execution_count": null,
      "metadata": {
        "id": "bBwoG3w2wjjS"
      },
      "outputs": [],
      "source": [
        "oversampler = RandomOverSampler(random_state=42)\n",
        "\n",
        "X_train_resampled, y_train_resampled = oversampler.fit_resample(X_train, y_train)\n"
      ]
    },
    {
      "cell_type": "code",
      "execution_count": null,
      "metadata": {
        "id": "g5srIW2rtEdM"
      },
      "outputs": [],
      "source": [
        "from sklearn.tree import DecisionTreeClassifier"
      ]
    },
    {
      "cell_type": "code",
      "execution_count": null,
      "metadata": {
        "id": "K2nwWsFrtWFm"
      },
      "outputs": [],
      "source": [
        "clf = DecisionTreeClassifier()\n",
        "\n",
        "clf = clf.fit(X_train_resampled,y_train_resampled)"
      ]
    },
    {
      "cell_type": "code",
      "execution_count": null,
      "metadata": {
        "colab": {
          "base_uri": "https://localhost:8080/"
        },
        "id": "2yeguzuduM2g",
        "outputId": "d09bdc4c-b496-4cd7-eb3c-6e7f92b9e54d"
      },
      "outputs": [
        {
          "name": "stdout",
          "output_type": "stream",
          "text": [
            "Accuracy: 1.0\n"
          ]
        }
      ],
      "source": [
        "y_pred = clf.predict(X_test)\n",
        "accuracy = accuracy_score(y_test, y_pred)\n",
        "print(\"Accuracy:\", accuracy)"
      ]
    },
    {
      "cell_type": "code",
      "execution_count": null,
      "metadata": {
        "colab": {
          "base_uri": "https://localhost:8080/"
        },
        "id": "01XuBQOBvBVt",
        "outputId": "f4e9f77e-7e44-415b-bf2a-aeb006036673"
      },
      "outputs": [
        {
          "data": {
            "text/plain": [
              "Overweight     58\n",
              "Normal         58\n",
              "Underweight    58\n",
              "Name: Category, dtype: int64"
            ]
          },
          "execution_count": 20,
          "metadata": {},
          "output_type": "execute_result"
        }
      ],
      "source": [
        "y_train_resampled.value_counts()"
      ]
    },
    {
      "cell_type": "code",
      "execution_count": null,
      "metadata": {
        "colab": {
          "base_uri": "https://localhost:8080/"
        },
        "id": "OA1rrtbuvbEN",
        "outputId": "86562d9e-2146-4580-cd67-9f3697700bbc"
      },
      "outputs": [
        {
          "data": {
            "text/plain": [
              "(67,)"
            ]
          },
          "execution_count": 21,
          "metadata": {},
          "output_type": "execute_result"
        }
      ],
      "source": [
        "y_train.shape"
      ]
    },
    {
      "cell_type": "markdown",
      "metadata": {
        "id": "x59ZWi16yLy3"
      },
      "source": [
        "Random Forest"
      ]
    },
    {
      "cell_type": "code",
      "execution_count": null,
      "metadata": {
        "id": "7JHcUYGsvMnn"
      },
      "outputs": [],
      "source": [
        "from sklearn.ensemble import RandomForestClassifier"
      ]
    },
    {
      "cell_type": "code",
      "execution_count": null,
      "metadata": {
        "id": "uLqqRN4R7_N9"
      },
      "outputs": [],
      "source": []
    },
    {
      "cell_type": "code",
      "execution_count": null,
      "metadata": {
        "colab": {
          "base_uri": "https://localhost:8080/"
        },
        "id": "x4VwfQAazfp9",
        "outputId": "b22f36ef-666e-496e-8d8b-4b6447a03466"
      },
      "outputs": [
        {
          "name": "stdout",
          "output_type": "stream",
          "text": [
            "Accuracy: 1.0\n"
          ]
        }
      ],
      "source": [
        "rfc = RandomForestClassifier(n_estimators=100, random_state=42)\n",
        "\n",
        "# Fit the model to the training data\n",
        "rfc.fit(X_train_resampled, y_train_resampled)\n",
        "\n",
        "# Predict the classes of test data\n",
        "y_pred = rfc.predict(X_test)\n",
        "\n",
        "# Calculate the accuracy of the model\n",
        "accuracy = accuracy_score(y_test, y_pred)\n",
        "\n",
        "print(\"Accuracy:\", accuracy)"
      ]
    },
    {
      "cell_type": "markdown",
      "metadata": {
        "id": "4HbI90ljziUa"
      },
      "source": [
        "KNN"
      ]
    },
    {
      "cell_type": "code",
      "execution_count": null,
      "metadata": {
        "colab": {
          "base_uri": "https://localhost:8080/"
        },
        "id": "FpSQljtRzhl_",
        "outputId": "f39c1e45-59dc-4f39-de72-01b8af761a9b"
      },
      "outputs": [
        {
          "name": "stdout",
          "output_type": "stream",
          "text": [
            "Accuracy: 0.7241379310344828\n"
          ]
        }
      ],
      "source": [
        "from sklearn.neighbors import KNeighborsClassifier\n",
        "knn = KNeighborsClassifier(n_neighbors=3)\n",
        "\n",
        "# Fit the classifier to the training data\n",
        "knn.fit(X_train_resampled, y_train_resampled)\n",
        "\n",
        "# Make predictions on the testing data\n",
        "y_pred = knn.predict(X_test)\n",
        "\n",
        "# Measure the accuracy of the classifier\n",
        "accuracy = accuracy_score(y_test, y_pred)\n",
        "\n",
        "print(\"Accuracy:\", accuracy)"
      ]
    },
    {
      "cell_type": "markdown",
      "metadata": {
        "id": "HJu-ZNz04ZD5"
      },
      "source": [
        "Gradient Boosting"
      ]
    },
    {
      "cell_type": "code",
      "execution_count": null,
      "metadata": {
        "colab": {
          "base_uri": "https://localhost:8080/"
        },
        "id": "MTAlOHgu0Vx6",
        "outputId": "6eb30f40-4975-4519-b7ee-99a71f522065"
      },
      "outputs": [
        {
          "name": "stdout",
          "output_type": "stream",
          "text": [
            "Accuracy: 1.0\n"
          ]
        }
      ],
      "source": [
        "from sklearn.ensemble import GradientBoostingClassifier\n",
        "gb_clf = GradientBoostingClassifier(random_state=42)\n",
        "\n",
        "# Fit the model to the training data\n",
        "gb_clf.fit(X_train_resampled, y_train_resampled)\n",
        "\n",
        "# Use the trained model to make predictions on the testing data\n",
        "y_pred = gb_clf.predict(X_test)\n",
        "\n",
        "# Evaluate the accuracy of the model\n",
        "acc = accuracy_score(y_test, y_pred)\n",
        "print(f\"Accuracy: {acc}\")\n",
        "\n",
        "\n",
        "\n",
        "\n",
        "\n"
      ]
    },
    {
      "cell_type": "markdown",
      "metadata": {
        "id": "XfT0NWVU4mF9"
      },
      "source": [
        "ADA Boosting"
      ]
    },
    {
      "cell_type": "code",
      "execution_count": null,
      "metadata": {
        "colab": {
          "base_uri": "https://localhost:8080/"
        },
        "id": "RGcVR-v24oi4",
        "outputId": "2818dc98-1f59-4037-be91-66d0d7fac2ea"
      },
      "outputs": [
        {
          "name": "stdout",
          "output_type": "stream",
          "text": [
            "Accuracy: 1.0\n"
          ]
        }
      ],
      "source": [
        "from sklearn.ensemble import AdaBoostClassifier\n",
        "from sklearn.datasets import make_classification\n",
        "from sklearn.model_selection import train_test_split\n",
        "from sklearn.metrics import accuracy_score\n",
        "\n",
        "\n",
        "\n",
        "# Create an AdaBoost Classifier with default parameters\n",
        "ada_clf = AdaBoostClassifier(random_state=42)\n",
        "\n",
        "# Fit the model to the training data\n",
        "ada_clf.fit(X_train_resampled, y_train_resampled)\n",
        "\n",
        "# Use the trained model to make predictions on the testing data\n",
        "y_pred = ada_clf.predict(X_test)\n",
        "\n",
        "# Evaluate the accuracy of the model\n",
        "acc = accuracy_score(y_test, y_pred)\n",
        "print(f\"Accuracy: {acc}\")\n"
      ]
    },
    {
      "cell_type": "code",
      "execution_count": null,
      "metadata": {
        "id": "RUne4nbL8AO5"
      },
      "outputs": [],
      "source": [
        "import pickle\n",
        "pickle_out = open(\"classifier.pkl\",\"wb\")\n",
        "pickle.dump(clf, pickle_out)\n",
        "pickle_out.close()"
      ]
    },
    {
      "cell_type": "code",
      "execution_count": null,
      "metadata": {
        "colab": {
          "base_uri": "https://localhost:8080/"
        },
        "id": "Iq-iVRk48L9o",
        "outputId": "4dfce506-8cdd-46e8-9e7b-cf8f7ef29bee"
      },
      "outputs": [
        {
          "name": "stdout",
          "output_type": "stream",
          "text": [
            "Looking in indexes: https://pypi.org/simple, https://us-python.pkg.dev/colab-wheels/public/simple/\n",
            "Requirement already satisfied: streamlit in /usr/local/lib/python3.9/dist-packages (1.21.0)\n",
            "Requirement already satisfied: pandas<2,>=0.25 in /usr/local/lib/python3.9/dist-packages (from streamlit) (1.5.3)\n",
            "Requirement already satisfied: watchdog in /usr/local/lib/python3.9/dist-packages (from streamlit) (3.0.0)\n",
            "Requirement already satisfied: validators>=0.2 in /usr/local/lib/python3.9/dist-packages (from streamlit) (0.20.0)\n",
            "Requirement already satisfied: tzlocal>=1.1 in /usr/local/lib/python3.9/dist-packages (from streamlit) (4.3)\n",
            "Requirement already satisfied: pydeck>=0.1.dev5 in /usr/local/lib/python3.9/dist-packages (from streamlit) (0.8.1b0)\n",
            "Requirement already satisfied: cachetools>=4.0 in /usr/local/lib/python3.9/dist-packages (from streamlit) (5.3.0)\n",
            "Requirement already satisfied: requests>=2.4 in /usr/local/lib/python3.9/dist-packages (from streamlit) (2.27.1)\n",
            "Requirement already satisfied: rich>=10.11.0 in /usr/local/lib/python3.9/dist-packages (from streamlit) (13.3.3)\n",
            "Requirement already satisfied: toml in /usr/local/lib/python3.9/dist-packages (from streamlit) (0.10.2)\n",
            "Requirement already satisfied: tornado>=6.0.3 in /usr/local/lib/python3.9/dist-packages (from streamlit) (6.2)\n",
            "Requirement already satisfied: importlib-metadata>=1.4 in /usr/local/lib/python3.9/dist-packages (from streamlit) (6.3.0)\n",
            "Requirement already satisfied: protobuf<4,>=3.12 in /usr/local/lib/python3.9/dist-packages (from streamlit) (3.20.3)\n",
            "Requirement already satisfied: packaging>=14.1 in /usr/local/lib/python3.9/dist-packages (from streamlit) (23.0)\n",
            "Requirement already satisfied: click>=7.0 in /usr/local/lib/python3.9/dist-packages (from streamlit) (8.1.3)\n",
            "Requirement already satisfied: blinker>=1.0.0 in /usr/local/lib/python3.9/dist-packages (from streamlit) (1.6.2)\n",
            "Requirement already satisfied: pympler>=0.9 in /usr/local/lib/python3.9/dist-packages (from streamlit) (1.0.1)\n",
            "Requirement already satisfied: python-dateutil in /usr/local/lib/python3.9/dist-packages (from streamlit) (2.8.2)\n",
            "Requirement already satisfied: numpy in /usr/local/lib/python3.9/dist-packages (from streamlit) (1.22.4)\n",
            "Requirement already satisfied: pyarrow>=4.0 in /usr/local/lib/python3.9/dist-packages (from streamlit) (9.0.0)\n",
            "Requirement already satisfied: gitpython!=3.1.19 in /usr/local/lib/python3.9/dist-packages (from streamlit) (3.1.31)\n",
            "Requirement already satisfied: typing-extensions>=3.10.0.0 in /usr/local/lib/python3.9/dist-packages (from streamlit) (4.5.0)\n",
            "Requirement already satisfied: altair<5,>=3.2.0 in /usr/local/lib/python3.9/dist-packages (from streamlit) (4.2.2)\n",
            "Requirement already satisfied: pillow>=6.2.0 in /usr/local/lib/python3.9/dist-packages (from streamlit) (8.4.0)\n",
            "Requirement already satisfied: entrypoints in /usr/local/lib/python3.9/dist-packages (from altair<5,>=3.2.0->streamlit) (0.4)\n",
            "Requirement already satisfied: jsonschema>=3.0 in /usr/local/lib/python3.9/dist-packages (from altair<5,>=3.2.0->streamlit) (4.3.3)\n",
            "Requirement already satisfied: toolz in /usr/local/lib/python3.9/dist-packages (from altair<5,>=3.2.0->streamlit) (0.12.0)\n",
            "Requirement already satisfied: jinja2 in /usr/local/lib/python3.9/dist-packages (from altair<5,>=3.2.0->streamlit) (3.1.2)\n",
            "Requirement already satisfied: gitdb<5,>=4.0.1 in /usr/local/lib/python3.9/dist-packages (from gitpython!=3.1.19->streamlit) (4.0.10)\n",
            "Requirement already satisfied: zipp>=0.5 in /usr/local/lib/python3.9/dist-packages (from importlib-metadata>=1.4->streamlit) (3.15.0)\n",
            "Requirement already satisfied: pytz>=2020.1 in /usr/local/lib/python3.9/dist-packages (from pandas<2,>=0.25->streamlit) (2022.7.1)\n",
            "Requirement already satisfied: six>=1.5 in /usr/local/lib/python3.9/dist-packages (from python-dateutil->streamlit) (1.16.0)\n",
            "Requirement already satisfied: certifi>=2017.4.17 in /usr/local/lib/python3.9/dist-packages (from requests>=2.4->streamlit) (2022.12.7)\n",
            "Requirement already satisfied: urllib3<1.27,>=1.21.1 in /usr/local/lib/python3.9/dist-packages (from requests>=2.4->streamlit) (1.26.15)\n",
            "Requirement already satisfied: charset-normalizer~=2.0.0 in /usr/local/lib/python3.9/dist-packages (from requests>=2.4->streamlit) (2.0.12)\n",
            "Requirement already satisfied: idna<4,>=2.5 in /usr/local/lib/python3.9/dist-packages (from requests>=2.4->streamlit) (3.4)\n",
            "Requirement already satisfied: markdown-it-py<3.0.0,>=2.2.0 in /usr/local/lib/python3.9/dist-packages (from rich>=10.11.0->streamlit) (2.2.0)\n",
            "Requirement already satisfied: pygments<3.0.0,>=2.13.0 in /usr/local/lib/python3.9/dist-packages (from rich>=10.11.0->streamlit) (2.14.0)\n",
            "Requirement already satisfied: pytz-deprecation-shim in /usr/local/lib/python3.9/dist-packages (from tzlocal>=1.1->streamlit) (0.1.0.post0)\n",
            "Requirement already satisfied: decorator>=3.4.0 in /usr/local/lib/python3.9/dist-packages (from validators>=0.2->streamlit) (4.4.2)\n",
            "Requirement already satisfied: smmap<6,>=3.0.1 in /usr/local/lib/python3.9/dist-packages (from gitdb<5,>=4.0.1->gitpython!=3.1.19->streamlit) (5.0.0)\n",
            "Requirement already satisfied: MarkupSafe>=2.0 in /usr/local/lib/python3.9/dist-packages (from jinja2->altair<5,>=3.2.0->streamlit) (2.1.2)\n",
            "Requirement already satisfied: attrs>=17.4.0 in /usr/local/lib/python3.9/dist-packages (from jsonschema>=3.0->altair<5,>=3.2.0->streamlit) (22.2.0)\n",
            "Requirement already satisfied: pyrsistent!=0.17.0,!=0.17.1,!=0.17.2,>=0.14.0 in /usr/local/lib/python3.9/dist-packages (from jsonschema>=3.0->altair<5,>=3.2.0->streamlit) (0.19.3)\n",
            "Requirement already satisfied: mdurl~=0.1 in /usr/local/lib/python3.9/dist-packages (from markdown-it-py<3.0.0,>=2.2.0->rich>=10.11.0->streamlit) (0.1.2)\n",
            "Requirement already satisfied: tzdata in /usr/local/lib/python3.9/dist-packages (from pytz-deprecation-shim->tzlocal>=1.1->streamlit) (2023.3)\n"
          ]
        }
      ],
      "source": [
        "!pip install streamlit"
      ]
    },
    {
      "cell_type": "code",
      "execution_count": null,
      "metadata": {
        "colab": {
          "base_uri": "https://localhost:8080/"
        },
        "id": "fWQyZ8LVkCBY",
        "outputId": "b913e6c2-2e63-4625-d759-3c3236200585"
      },
      "outputs": [
        {
          "name": "stdout",
          "output_type": "stream",
          "text": [
            "Overwriting app1.py\n"
          ]
        }
      ],
      "source": [
        "%%writefile app1.py\n",
        "\n",
        "import numpy as np\n",
        "import pickle\n",
        "import pandas as pd\n",
        "#from flasgger import Swagger\n",
        "import streamlit as st\n",
        "pickle_in = open(\"classifier.pkl\",\"rb\")\n",
        "classifier=pickle.load(pickle_in)\n",
        "def welcome():\n",
        "    return \"Welcome All\"\n",
        "def predict_note_authentication(\tstep_count,\tcalories_burnt,\thours_of_sleep,\tWeight,\tHeight,\tcalories,\tBMI):\n",
        "    \n",
        "    \"\"\"Let's Authenticate the Banks Note \n",
        "    This is using docstrings for specifications.\n",
        "    ---\n",
        "    parameters:  \n",
        "      - name: step_count\n",
        "        in: query\n",
        "        type: number\n",
        "        required: true\n",
        "      - name: calories_burnt\n",
        "        in: query\n",
        "        type: number\n",
        "        required: true\n",
        "      - name: hours_of_sleep\n",
        "        in: query\n",
        "        type: number\n",
        "        required: true\n",
        "      - name: Weight\n",
        "        in: query\n",
        "        type: number\n",
        "        required: true\n",
        "      - name: Height\n",
        "        in: query\n",
        "        type: number\n",
        "        required: true\n",
        "      - name: calories\n",
        "        in: query\n",
        "        type: number\n",
        "        required: true\n",
        "      - name: BMI\n",
        "        in: query\n",
        "        type: number\n",
        "        required: true\n",
        "      \n",
        "    responses:\n",
        "        200:\n",
        "            description: The output values\n",
        "        \n",
        "    \"\"\"\n",
        "    prediction=classifier.predict([[\tstep_count,\tcalories_burnt,\thours_of_sleep,\tWeight,\tHeight,\tcalories,\tBMI]])\n",
        "    print(prediction)\n",
        "    \n",
        "    return prediction\n",
        "\n",
        "def predict(\tstep_count,\tcalories_burnt,\thours_of_sleep,\tWeight,\tHeight,\tcalories,\tBMI):\n",
        "    \n",
        "    \"\"\"Let's Authenticate the Banks Note \n",
        "    This is using docstrings for specifications.\n",
        "    ---\n",
        "    parameters:  \n",
        "      - name: step_count\n",
        "        in: query\n",
        "        type: number\n",
        "        required: true\n",
        "      - name: calories_burnt\n",
        "        in: query\n",
        "        type: number\n",
        "        required: true\n",
        "      - name: hours_of_sleep\n",
        "        in: query\n",
        "        type: number\n",
        "        required: true\n",
        "      - name: Weight\n",
        "        in: query\n",
        "        type: number\n",
        "        required: true\n",
        "      - name: Height\n",
        "        in: query\n",
        "        type: number\n",
        "        required: true\n",
        "      - name: calories\n",
        "        in: query\n",
        "        type: number\n",
        "        required: true\n",
        "      - name: BMI\n",
        "        in: query\n",
        "        type: number\n",
        "        required: true\n",
        "    \n",
        "    responses:\n",
        "        200:\n",
        "            description: The output values\n",
        "        \n",
        "    \"\"\"\n",
        "    prediction=classifier.predict([[\tstep_count,\tcalories_burnt,\thours_of_sleep,\tWeight,\tHeight,\tcalories,\tBMI]])\n",
        "    if prediction == 0:\n",
        "        predictionText = \"Mitochondrial genetic inheritance disorders\"\n",
        "    elif prediction == 1:\n",
        "        predictionText = \"Multifactorial genetic inheritance disorders\"\n",
        "    elif prediction == 2:\n",
        "        predictionText = \"Single-gene inheritance diseases\"\n",
        "    else:\n",
        "        predictionText = \"Error\"\n",
        "    print(predictionText)\n",
        "    \n",
        "    \n",
        "    \n",
        "    return predictionText\n",
        "def main():\n",
        "    st.title(\"Genetic disorder classification\")\n",
        "    html_temp = \"\"\"\n",
        "    <div style=\"background-color:tomato;padding:10px\">\n",
        "    <h2 style=\"color:white;text-align:center;\">Streamlit classification app </h2>\n",
        "    </div>\n",
        "    \"\"\"\n",
        "    st.markdown(html_temp,unsafe_allow_html=True)\n",
        "    step_count = st.text_input(\"step_count\",\"Type Here\")\n",
        "    calories_burnt = st.text_input(\"calories_burnt\",\"Type Here\")\n",
        "    hours_of_sleep = st.text_input(\"hours_of_sleep\",\"Type Here\")\n",
        "    Weight = st.text_input(\"Weight\",\"Type Here\")\n",
        "    Height = st.text_input(\"Height\",\"Type Here\")\n",
        "    calories= st.text_input(\"calories\",\"Type Here\")\n",
        "    BMI = st.selectbox('BMI',('1', '0'))\n",
        " \n",
        "\n",
        "\n",
        "\n",
        "    result=\"\"\n",
        "    if st.button(\"Predict\"):\n",
        "        result=predict_note_authentication(\tstep_count,\tcalories_burnt,\thours_of_sleep,\tWeight,\tHeight,\tcalories,\tBMI)\n",
        "    st.success('The output is {}'.format(result))\n",
        "    if st.button(\"genetic_disorder\"):\n",
        "        result=predict(\tstep_count,\tcalories_burnt,\thours_of_sleep,\tWeight,\tHeight,\tcalories,\tBMI)\n",
        "    st.success('The output is {}'.format(result))\n",
        "\n",
        "   \n",
        "\n",
        "if __name__=='__main__':\n",
        "    main()"
      ]
    },
    {
      "cell_type": "code",
      "execution_count": null,
      "metadata": {
        "colab": {
          "background_save": true,
          "base_uri": "https://localhost:8080/"
        },
        "id": "OH8Wh5WP9_TA",
        "outputId": "b28bb529-f2ee-4405-b177-0942949480e5"
      },
      "outputs": [
        {
          "metadata": {
            "tags": null
          },
          "name": "stdout",
          "output_type": "stream",
          "text": [
            "[##................] | loadDep:strip-ansi: sill resolveWithNewModule wrap-ansi@\u001b[0m\u001b[K\n",
            "Collecting usage statistics. To deactivate, set browser.gatherUsageStats to False.\n",
            "\u001b[0m\n",
            "\u001b[0m\n",
            "\u001b[34m\u001b[1m  You can now view your Streamlit app in your browser.\u001b[0m\n",
            "\u001b[0m\n",
            "\u001b[34m  Network URL: \u001b[0m\u001b[1mhttp://172.28.0.12:8501\u001b[0m\n",
            "\u001b[34m  External URL: \u001b[0m\u001b[1mhttp://34.139.130.90:8501\u001b[0m\n",
            "\u001b[0m\n",
            "\u001b[K\u001b[?25hnpx: installed 22 in 5.432s\n",
            "your url is: https://three-shirts-search-34-139-130-90.loca.lt\n"
          ]
        }
      ],
      "source": [
        "!streamlit run app1.py & npx localtunnel --port 8501"
      ]
    }
  ],
  "metadata": {
    "colab": {
      "provenance": []
    },
    "kernelspec": {
      "display_name": "Python 3",
      "name": "python3"
    },
    "language_info": {
      "name": "python"
    }
  },
  "nbformat": 4,
  "nbformat_minor": 0
}